{
 "cells": [
  {
   "cell_type": "code",
   "execution_count": null,
   "id": "6372f79c-16f8-4bf0-8f4e-f5350faef033",
   "metadata": {},
   "outputs": [],
   "source": []
  },
  {
   "cell_type": "markdown",
   "id": "1a12d8d5-290e-4511-9c48-01009b6d8805",
   "metadata": {},
   "source": [
    "### Importing Required Libararies"
   ]
  },
  {
   "cell_type": "code",
   "execution_count": 2,
   "id": "85c53035-fa8f-4c86-8adb-1264b4573694",
   "metadata": {},
   "outputs": [],
   "source": [
    "import pandas as pd\n",
    "import numpy as np\n",
    "import seaborn as sns\n",
    "import matplotlib.pyplot as plt"
   ]
  },
  {
   "cell_type": "code",
   "execution_count": null,
   "id": "59841ebc-a407-4003-b6ca-5b5859754118",
   "metadata": {},
   "outputs": [],
   "source": []
  },
  {
   "cell_type": "code",
   "execution_count": null,
   "id": "e0f6505e-dd1c-434f-bc7b-1c1553985bf6",
   "metadata": {},
   "outputs": [],
   "source": [
    "comments = pd.read_csv(\n",
    "   r\"C:\\Users\\rocke\\OneDrive\\Documents\\Youtube_Data/UScomments.csv\",\n",
    "    on_bad_lines=\"skip\"\n",
    ")\n"
   ]
  },
  {
   "cell_type": "code",
   "execution_count": 4,
   "id": "56e03ac2-f384-4f53-82f2-49bab12dfa0e",
   "metadata": {},
   "outputs": [
    {
     "data": {
      "text/html": [
       "<div>\n",
       "<style scoped>\n",
       "    .dataframe tbody tr th:only-of-type {\n",
       "        vertical-align: middle;\n",
       "    }\n",
       "\n",
       "    .dataframe tbody tr th {\n",
       "        vertical-align: top;\n",
       "    }\n",
       "\n",
       "    .dataframe thead th {\n",
       "        text-align: right;\n",
       "    }\n",
       "</style>\n",
       "<table border=\"1\" class=\"dataframe\">\n",
       "  <thead>\n",
       "    <tr style=\"text-align: right;\">\n",
       "      <th></th>\n",
       "      <th>video_id</th>\n",
       "      <th>comment_text</th>\n",
       "      <th>likes</th>\n",
       "      <th>replies</th>\n",
       "    </tr>\n",
       "  </thead>\n",
       "  <tbody>\n",
       "    <tr>\n",
       "      <th>0</th>\n",
       "      <td>XpVt6Z1Gjjo</td>\n",
       "      <td>Logan Paul it's yo big day ‼️‼️‼️</td>\n",
       "      <td>4</td>\n",
       "      <td>0</td>\n",
       "    </tr>\n",
       "    <tr>\n",
       "      <th>1</th>\n",
       "      <td>XpVt6Z1Gjjo</td>\n",
       "      <td>I've been following you from the start of your...</td>\n",
       "      <td>3</td>\n",
       "      <td>0</td>\n",
       "    </tr>\n",
       "    <tr>\n",
       "      <th>2</th>\n",
       "      <td>XpVt6Z1Gjjo</td>\n",
       "      <td>Say hi to Kong and maverick for me</td>\n",
       "      <td>3</td>\n",
       "      <td>0</td>\n",
       "    </tr>\n",
       "    <tr>\n",
       "      <th>3</th>\n",
       "      <td>XpVt6Z1Gjjo</td>\n",
       "      <td>MY FAN . attendance</td>\n",
       "      <td>3</td>\n",
       "      <td>0</td>\n",
       "    </tr>\n",
       "    <tr>\n",
       "      <th>4</th>\n",
       "      <td>XpVt6Z1Gjjo</td>\n",
       "      <td>trending 😉</td>\n",
       "      <td>3</td>\n",
       "      <td>0</td>\n",
       "    </tr>\n",
       "  </tbody>\n",
       "</table>\n",
       "</div>"
      ],
      "text/plain": [
       "      video_id                                       comment_text likes  \\\n",
       "0  XpVt6Z1Gjjo                  Logan Paul it's yo big day ‼️‼️‼️     4   \n",
       "1  XpVt6Z1Gjjo  I've been following you from the start of your...     3   \n",
       "2  XpVt6Z1Gjjo                 Say hi to Kong and maverick for me     3   \n",
       "3  XpVt6Z1Gjjo                                MY FAN . attendance     3   \n",
       "4  XpVt6Z1Gjjo                                         trending 😉     3   \n",
       "\n",
       "  replies  \n",
       "0       0  \n",
       "1       0  \n",
       "2       0  \n",
       "3       0  \n",
       "4       0  "
      ]
     },
     "execution_count": 4,
     "metadata": {},
     "output_type": "execute_result"
    }
   ],
   "source": [
    "comments.head(5)\n"
   ]
  },
  {
   "cell_type": "code",
   "execution_count": 5,
   "id": "03f836e7-82e6-4960-9d24-66d695c24832",
   "metadata": {},
   "outputs": [
    {
     "data": {
      "text/plain": [
       "pandas.core.frame.DataFrame"
      ]
     },
     "execution_count": 5,
     "metadata": {},
     "output_type": "execute_result"
    }
   ],
   "source": [
    "type(comments)"
   ]
  },
  {
   "cell_type": "code",
   "execution_count": null,
   "id": "f55488c5-80c6-4c18-9c65-3ebb3bb58c0b",
   "metadata": {},
   "outputs": [],
   "source": []
  },
  {
   "cell_type": "markdown",
   "id": "28d86eb0-e8db-4efc-8e81-8cee70ddd5b9",
   "metadata": {},
   "source": [
    "### Find total missing values per column"
   ]
  },
  {
   "cell_type": "code",
   "execution_count": 6,
   "id": "e06d2a91-2e48-48e1-9cad-3cea6d9e80c1",
   "metadata": {},
   "outputs": [
    {
     "data": {
      "text/plain": [
       "video_id         0\n",
       "comment_text    26\n",
       "likes            0\n",
       "replies          0\n",
       "dtype: int64"
      ]
     },
     "execution_count": 6,
     "metadata": {},
     "output_type": "execute_result"
    }
   ],
   "source": [
    "comments.isnull().sum()"
   ]
  },
  {
   "cell_type": "code",
   "execution_count": null,
   "id": "7b9c6ac6-a128-4408-8998-330ed33a81a4",
   "metadata": {},
   "outputs": [],
   "source": []
  },
  {
   "cell_type": "markdown",
   "id": "2b57fe87-0cdc-42e8-90d6-f09399a4100f",
   "metadata": {},
   "source": [
    "### Drop all rows that contain any missing (NaN) values from the comments DataFrame, and apply the change directly to the original DataFrame."
   ]
  },
  {
   "cell_type": "code",
   "execution_count": 7,
   "id": "3c326727-9503-41c9-b14f-d73c92291d7d",
   "metadata": {},
   "outputs": [],
   "source": [
    "comments.dropna(inplace=True)"
   ]
  },
  {
   "cell_type": "markdown",
   "id": "ee4b0961-f886-4161-94e9-f027492a3cf1",
   "metadata": {},
   "source": [
    "#Rows with any missing data were removed."
   ]
  },
  {
   "cell_type": "code",
   "execution_count": 8,
   "id": "188d6ca3-85e8-4800-aead-c10b3b119c63",
   "metadata": {},
   "outputs": [
    {
     "data": {
      "text/plain": [
       "video_id        0\n",
       "comment_text    0\n",
       "likes           0\n",
       "replies         0\n",
       "dtype: int64"
      ]
     },
     "execution_count": 8,
     "metadata": {},
     "output_type": "execute_result"
    }
   ],
   "source": [
    "comments.isnull().sum()"
   ]
  },
  {
   "cell_type": "code",
   "execution_count": null,
   "id": "4824e3e5-1f3c-4efe-bbbf-9dd81b578927",
   "metadata": {},
   "outputs": [],
   "source": []
  },
  {
   "cell_type": "markdown",
   "id": "a41faa57-45ba-4daf-82d3-e13a41eed137",
   "metadata": {},
   "source": [
    "### 📦 Downloading VADER Lexicon for Sentiment Analysis & 🧠 Importing VADER Sentiment Analyzer and Accessing Comment Text"
   ]
  },
  {
   "cell_type": "code",
   "execution_count": null,
   "id": "5a5ee17a-950a-4022-bd61-c6fe668e1ece",
   "metadata": {},
   "outputs": [],
   "source": [
    "import nltk"
   ]
  },
  {
   "cell_type": "code",
   "execution_count": null,
   "id": "8dde232e-d78a-42a4-941e-afd33af9f115",
   "metadata": {},
   "outputs": [],
   "source": [
    "\n",
    "nltk.download(\"vader_lexicon\")"
   ]
  },
  {
   "cell_type": "code",
   "execution_count": null,
   "id": "1758b6a7-7312-45c0-89fc-de0b3c052a1f",
   "metadata": {},
   "outputs": [],
   "source": [
    "from nltk.sentiment.vader import SentimentIntensityAnalyzer"
   ]
  },
  {
   "cell_type": "code",
   "execution_count": null,
   "id": "60ae1925-f201-4f82-a133-a7cfe48255c6",
   "metadata": {},
   "outputs": [],
   "source": [
    "sia = SentimentIntensityAnalyzer()"
   ]
  },
  {
   "cell_type": "code",
   "execution_count": null,
   "id": "a548da3d-79e7-43aa-9572-834b58136860",
   "metadata": {},
   "outputs": [],
   "source": [
    "comments[\"comment_text\"]"
   ]
  },
  {
   "cell_type": "code",
   "execution_count": null,
   "id": "147a56a8-c1fe-4372-a25e-a264a3a5e12d",
   "metadata": {},
   "outputs": [],
   "source": [
    "sia.polarity_scores(\"MY FAN . attendance\")['compound']"
   ]
  },
  {
   "cell_type": "code",
   "execution_count": null,
   "id": "7fbf374c-078c-48c9-8d2d-a9ccdc273cf4",
   "metadata": {},
   "outputs": [],
   "source": []
  },
  {
   "cell_type": "code",
   "execution_count": null,
   "id": "03cdf800-280c-4231-b91b-fe0189231031",
   "metadata": {},
   "outputs": [],
   "source": [
    "sentimen_scores=[]\n",
    "for comment in comments[\"comment_text\"]:\n",
    "    score = sia.polarity_scores(str(comment))['compound']\n",
    "    sentimen_scores.append(score)"
   ]
  },
  {
   "cell_type": "code",
   "execution_count": null,
   "id": "da82239f-e142-43de-94c6-f603bca8443b",
   "metadata": {},
   "outputs": [],
   "source": [
    "sample_df = comments[0:10000]"
   ]
  },
  {
   "cell_type": "code",
   "execution_count": null,
   "id": "1500b5ad-e74e-4491-b3d5-559f38a1564a",
   "metadata": {},
   "outputs": [],
   "source": []
  },
  {
   "cell_type": "code",
   "execution_count": null,
   "id": "2580d9f4-b8c6-4409-86b5-8bc439a7fe65",
   "metadata": {},
   "outputs": [],
   "source": [
    "# sentimen_scores"
   ]
  },
  {
   "cell_type": "code",
   "execution_count": null,
   "id": "cfb0b2b6-1794-4247-a1f6-7d1bbd9a88d4",
   "metadata": {},
   "outputs": [],
   "source": []
  },
  {
   "cell_type": "code",
   "execution_count": null,
   "id": "1eecd1a6-fae3-4162-921a-fd78ba58b244",
   "metadata": {},
   "outputs": [],
   "source": [
    "comments[\"polarity\"] = sentimen_scores"
   ]
  },
  {
   "cell_type": "code",
   "execution_count": null,
   "id": "dec00de8-d5b8-418c-8519-4eb8df73ac59",
   "metadata": {},
   "outputs": [],
   "source": [
    "comments.head(5)"
   ]
  },
  {
   "cell_type": "code",
   "execution_count": null,
   "id": "1711d91c-ee35-440b-ad13-a056d208dff7",
   "metadata": {},
   "outputs": [],
   "source": []
  },
  {
   "cell_type": "markdown",
   "id": "8dc5c487-5f80-4f4b-a3e4-4c710756853a",
   "metadata": {},
   "source": []
  },
  {
   "cell_type": "markdown",
   "id": "ad57b600-0fed-487b-997d-17282e20e24d",
   "metadata": {},
   "source": [
    "### Word cloud analysis of data \n"
   ]
  },
  {
   "cell_type": "code",
   "execution_count": null,
   "id": "c108f31f-17bc-4437-b312-86c2dfc3626d",
   "metadata": {},
   "outputs": [],
   "source": []
  },
  {
   "cell_type": "markdown",
   "id": "2ed4b83a-58ea-4c1b-9ade-3a529cf66f00",
   "metadata": {},
   "source": [
    "### This is for positive sentiment "
   ]
  },
  {
   "cell_type": "code",
   "execution_count": null,
   "id": "a0b19efe-f588-4ace-b305-442a452fd538",
   "metadata": {},
   "outputs": [],
   "source": [
    "filter_pos = (comments[\"polarity\"] >= 0.8) & ((comments[\"polarity\"] <=1.0))"
   ]
  },
  {
   "cell_type": "code",
   "execution_count": null,
   "id": "9e0dc74a-ed3d-456c-81a9-21e251490c73",
   "metadata": {},
   "outputs": [],
   "source": [
    "comments_positive = comments[filter_pos]"
   ]
  },
  {
   "cell_type": "code",
   "execution_count": null,
   "id": "5684a002-075f-4f57-8e97-0779cd2b32a7",
   "metadata": {},
   "outputs": [],
   "source": [
    "comments_positive.shape"
   ]
  },
  {
   "cell_type": "markdown",
   "id": "6cfcff02-63af-4213-94da-6920b4206ac5",
   "metadata": {},
   "source": [
    "### This is for negative sentiment"
   ]
  },
  {
   "cell_type": "code",
   "execution_count": null,
   "id": "1c0efa80-619f-427e-b360-3765c81f98ef",
   "metadata": {},
   "outputs": [],
   "source": [
    "filter_neg = (comments[\"polarity\"] >= -1.0) & ((comments[\"polarity\"] <=-0.8))"
   ]
  },
  {
   "cell_type": "code",
   "execution_count": null,
   "id": "c27adfe9-b341-4b4a-b3b1-fd16e0cd3685",
   "metadata": {},
   "outputs": [],
   "source": [
    "comments_negative = comments[filter_neg]"
   ]
  },
  {
   "cell_type": "code",
   "execution_count": null,
   "id": "df7e7d95-50f9-4bf9-bd25-67a56f08cbfb",
   "metadata": {},
   "outputs": [],
   "source": [
    "comments_negative.shape"
   ]
  },
  {
   "cell_type": "code",
   "execution_count": null,
   "id": "7de991b2-a217-43a2-80e6-329eec2df332",
   "metadata": {},
   "outputs": [],
   "source": []
  },
  {
   "cell_type": "code",
   "execution_count": null,
   "id": "e11ed477-fece-4344-8d8a-5cb4a1b0ba8c",
   "metadata": {},
   "outputs": [],
   "source": [
    "#!pip install wordcloud"
   ]
  },
  {
   "cell_type": "code",
   "execution_count": null,
   "id": "42c2c415-cafd-4f4f-a976-12a00a952b65",
   "metadata": {},
   "outputs": [],
   "source": [
    "comments_positive[\"comment_text\"]"
   ]
  },
  {
   "cell_type": "code",
   "execution_count": null,
   "id": "f1f809e2-ba44-4e3d-82d8-7b16a37fcd61",
   "metadata": {},
   "outputs": [],
   "source": [
    "type(comments_positive[\"comment_text\"])"
   ]
  },
  {
   "cell_type": "code",
   "execution_count": null,
   "id": "5014d21f-a12b-4275-96cb-8617ce2b5a60",
   "metadata": {},
   "outputs": [],
   "source": [
    "total_positive_comments = ' '.join(comments_positive[\"comment_text\"])"
   ]
  },
  {
   "cell_type": "code",
   "execution_count": null,
   "id": "66cdaee7-9b13-4b47-816b-001f579df82b",
   "metadata": {},
   "outputs": [],
   "source": [
    "total_positive_comments[0:1000]"
   ]
  },
  {
   "cell_type": "code",
   "execution_count": null,
   "id": "5a45fba1-8f8c-47fe-837e-5e3f141cac35",
   "metadata": {},
   "outputs": [],
   "source": []
  },
  {
   "cell_type": "code",
   "execution_count": null,
   "id": "c84d2dfe-096c-4ea7-bcd1-e9803a1b14b1",
   "metadata": {},
   "outputs": [],
   "source": [
    "#set(STOPWORDS)"
   ]
  },
  {
   "cell_type": "code",
   "execution_count": null,
   "id": "0d56af72-1e38-4837-8215-2c305ce887c8",
   "metadata": {},
   "outputs": [],
   "source": [
    "from wordcloud import WordCloud, STOPWORDS"
   ]
  },
  {
   "cell_type": "code",
   "execution_count": null,
   "id": "a2ebb41a-07ef-4701-b819-11b332b972be",
   "metadata": {},
   "outputs": [],
   "source": [
    "wordcloud_positive = WordCloud(stopwords= set(STOPWORDS)).generate(total_positive_comments)"
   ]
  },
  {
   "cell_type": "code",
   "execution_count": null,
   "id": "fd012720-45b1-48da-ae61-d6f55f28d6f2",
   "metadata": {},
   "outputs": [],
   "source": [
    "plt.imshow(wordcloud_positive)\n",
    "plt.axis(\"off\")"
   ]
  },
  {
   "cell_type": "code",
   "execution_count": null,
   "id": "1c0e54e4-fa62-4153-be0e-b6aa9ef0399c",
   "metadata": {},
   "outputs": [],
   "source": [
    "\n"
   ]
  },
  {
   "cell_type": "code",
   "execution_count": null,
   "id": "3fcf5464-d705-4448-88d3-fafb8675e1f4",
   "metadata": {},
   "outputs": [],
   "source": [
    "total_negative_comments = ' '.join(comments_negative[\"comment_text\"])"
   ]
  },
  {
   "cell_type": "code",
   "execution_count": null,
   "id": "6251dc97-2e8f-4eed-86ab-578c323c8b87",
   "metadata": {},
   "outputs": [],
   "source": [
    "wordcloud_negative = WordCloud(stopwords= set(STOPWORDS)).generate(total_negative_comments)"
   ]
  },
  {
   "cell_type": "code",
   "execution_count": null,
   "id": "ed70ed2c-8c39-494e-82c4-588e2ca47394",
   "metadata": {},
   "outputs": [],
   "source": [
    "plt.imshow(wordcloud_negative)\n",
    "plt.axis(\"off\")"
   ]
  },
  {
   "cell_type": "code",
   "execution_count": null,
   "id": "6585d15d-51e3-4280-bba2-3fd880a4d10e",
   "metadata": {},
   "outputs": [],
   "source": []
  },
  {
   "cell_type": "markdown",
   "id": "f97ceabb-6139-4492-a251-2585062878a9",
   "metadata": {},
   "source": []
  },
  {
   "cell_type": "markdown",
   "id": "16d58050-df4a-4417-85ee-4f32ec13781c",
   "metadata": {},
   "source": [
    "### Perform Emoji's Analysis"
   ]
  },
  {
   "cell_type": "code",
   "execution_count": null,
   "id": "8a513197-ad21-42c7-829c-df7bd81a618b",
   "metadata": {},
   "outputs": [],
   "source": [
    "!pip install emoji"
   ]
  },
  {
   "cell_type": "code",
   "execution_count": null,
   "id": "4a6cfd32-3768-43ae-9a57-663c258e2902",
   "metadata": {},
   "outputs": [],
   "source": [
    "import emoji "
   ]
  },
  {
   "cell_type": "code",
   "execution_count": null,
   "id": "27b2e602-1051-4799-ab80-711798bd0e51",
   "metadata": {},
   "outputs": [],
   "source": [
    "emoji.__version__"
   ]
  },
  {
   "cell_type": "code",
   "execution_count": null,
   "id": "049eee80-12c0-4439-885f-7cb7474320e3",
   "metadata": {},
   "outputs": [],
   "source": []
  },
  {
   "cell_type": "code",
   "execution_count": null,
   "id": "d80f27d3-4298-47b2-88e1-27d7b64a4c0c",
   "metadata": {},
   "outputs": [],
   "source": [
    "comments.head(5)"
   ]
  },
  {
   "cell_type": "code",
   "execution_count": null,
   "id": "c012f793-b4c8-4062-a619-245099c2fd48",
   "metadata": {},
   "outputs": [],
   "source": []
  },
  {
   "cell_type": "code",
   "execution_count": null,
   "id": "af967987-abdb-448f-aaa1-145901eb2918",
   "metadata": {},
   "outputs": [],
   "source": [
    "emoji_info = emoji.emoji_list(\"trending 😉\")"
   ]
  },
  {
   "cell_type": "code",
   "execution_count": null,
   "id": "0de4306c-b6cc-4028-bb47-dd25aae6a1d9",
   "metadata": {},
   "outputs": [],
   "source": [
    "emoji_info"
   ]
  },
  {
   "cell_type": "code",
   "execution_count": null,
   "id": "fd2c0668-d80a-4a3a-b95c-7d33d14c2eba",
   "metadata": {},
   "outputs": [],
   "source": [
    "[item[\"emoji\"] for item in emoji_info]"
   ]
  },
  {
   "cell_type": "code",
   "execution_count": null,
   "id": "3bf9f9f4-6d42-4ce5-b4d4-d073570b198a",
   "metadata": {},
   "outputs": [],
   "source": []
  },
  {
   "cell_type": "code",
   "execution_count": null,
   "id": "675170e3-0561-4286-9027-7a6a8890767e",
   "metadata": {},
   "outputs": [],
   "source": []
  },
  {
   "cell_type": "code",
   "execution_count": null,
   "id": "61f0843e-0a32-4531-afd8-e7a193c3de6f",
   "metadata": {},
   "outputs": [],
   "source": [
    "comments[\"comment_text\"]"
   ]
  },
  {
   "cell_type": "code",
   "execution_count": null,
   "id": "534a19c6-00da-45ec-9307-cd8aeafd5abd",
   "metadata": {},
   "outputs": [],
   "source": []
  },
  {
   "cell_type": "code",
   "execution_count": null,
   "id": "da33f492-6265-4401-a5c3-7181f8b4f2b9",
   "metadata": {},
   "outputs": [],
   "source": [
    "all_emoji_found = []\n",
    "for comment in comments[\"comment_text\"]:\n",
    "    emoji_info = emoji.emoji_list(comment)\n",
    "    emoji_found = [item[\"emoji\"] for item in emoji_info]\n",
    "    all_emoji_found.extend(emoji_found)"
   ]
  },
  {
   "cell_type": "code",
   "execution_count": null,
   "id": "aaaa14e0-3ab0-4c74-ac3d-f812cf2e4343",
   "metadata": {},
   "outputs": [],
   "source": []
  },
  {
   "cell_type": "code",
   "execution_count": null,
   "id": "7cb5d262-91cb-4948-b46e-a4b3021b14ed",
   "metadata": {},
   "outputs": [],
   "source": [
    "all_emoji_found[0:10]"
   ]
  },
  {
   "cell_type": "code",
   "execution_count": null,
   "id": "77bbd765-7085-4a8b-aea2-8f1e75c497ab",
   "metadata": {},
   "outputs": [],
   "source": [
    "len(all_emoji_found)"
   ]
  },
  {
   "cell_type": "code",
   "execution_count": null,
   "id": "5162dd50-06db-47bd-a4fb-f65bba3dde83",
   "metadata": {},
   "outputs": [],
   "source": []
  },
  {
   "cell_type": "code",
   "execution_count": null,
   "id": "95f374bf-d1b3-405e-ae3f-328ccd965aaf",
   "metadata": {},
   "outputs": [],
   "source": [
    "from collections import Counter "
   ]
  },
  {
   "cell_type": "code",
   "execution_count": null,
   "id": "b7c186ea-b92c-4e26-a069-fefd64f51cda",
   "metadata": {},
   "outputs": [],
   "source": [
    "emoji_count_list_top10 = Counter(all_emoji_found).most_common(10)"
   ]
  },
  {
   "cell_type": "code",
   "execution_count": null,
   "id": "8099b86c-cfde-41cf-819e-b67be4c00b0e",
   "metadata": {},
   "outputs": [],
   "source": [
    "emoji_count_list_top10"
   ]
  },
  {
   "cell_type": "code",
   "execution_count": null,
   "id": "3114a324-ed75-4a96-85d0-b49d353916c6",
   "metadata": {},
   "outputs": [],
   "source": []
  },
  {
   "cell_type": "code",
   "execution_count": null,
   "id": "ecdfce20-e82f-46f3-bce6-18faea8cb7c5",
   "metadata": {},
   "outputs": [],
   "source": [
    "emojis = [emoji for emoji, count in emoji_count_list_top10]\n",
    "counts = [count for emoji, count in emoji_count_list_top10]"
   ]
  },
  {
   "cell_type": "code",
   "execution_count": null,
   "id": "c69cf915-0254-44b4-a2f2-495660b4cd9a",
   "metadata": {},
   "outputs": [],
   "source": [
    "emojis"
   ]
  },
  {
   "cell_type": "code",
   "execution_count": null,
   "id": "9a99fa3d-9e39-4d20-9625-d465c452ce53",
   "metadata": {},
   "outputs": [],
   "source": [
    "counts"
   ]
  },
  {
   "cell_type": "code",
   "execution_count": null,
   "id": "3402af8f-1a7b-4794-84f2-2566d37fce28",
   "metadata": {},
   "outputs": [],
   "source": []
  },
  {
   "cell_type": "code",
   "execution_count": null,
   "id": "cd551686-e630-4e7a-bd98-d76ad971f10a",
   "metadata": {},
   "outputs": [],
   "source": [
    "!pip install plotly"
   ]
  },
  {
   "cell_type": "code",
   "execution_count": null,
   "id": "8455911c-4135-4f1a-8bf7-5f6517b7b8c9",
   "metadata": {},
   "outputs": [],
   "source": [
    "import plotly.graph_objs as go\n",
    "from plotly.offline import iplot"
   ]
  },
  {
   "cell_type": "code",
   "execution_count": null,
   "id": "d2f35737-665d-4a55-a094-85204a9c43da",
   "metadata": {},
   "outputs": [],
   "source": [
    "iplot([go.Bar(x = emojis , y = counts)])"
   ]
  },
  {
   "cell_type": "code",
   "execution_count": null,
   "id": "917d3419-3445-452b-8933-8f031e259b21",
   "metadata": {},
   "outputs": [],
   "source": []
  },
  {
   "cell_type": "code",
   "execution_count": null,
   "id": "f6b6eefa-43f3-4de6-b122-9302bc618228",
   "metadata": {},
   "outputs": [],
   "source": []
  },
  {
   "cell_type": "markdown",
   "id": "d3aa82e4-d7b0-4895-881f-916afa387131",
   "metadata": {},
   "source": [
    "### Total hours of games played"
   ]
  },
  {
   "cell_type": "code",
   "execution_count": null,
   "id": "76e8f484-5c0d-42d3-b587-95892d3ee449",
   "metadata": {},
   "outputs": [],
   "source": [
    "games_name = [\"Dota 2\",\"Fortnite\",\"Squad\",\"Brawl Stars\"]"
   ]
  },
  {
   "cell_type": "code",
   "execution_count": null,
   "id": "025096be-392c-42c0-8a3b-0c33b8803bb8",
   "metadata": {},
   "outputs": [],
   "source": [
    "hours_played = [3000,1000,400,2000]"
   ]
  },
  {
   "cell_type": "code",
   "execution_count": null,
   "id": "a677ba46-1470-4606-a968-9c1d8f95d8ab",
   "metadata": {},
   "outputs": [],
   "source": [
    "iplot([go.Bar(x = games_name, y = hours_played)])"
   ]
  },
  {
   "cell_type": "code",
   "execution_count": null,
   "id": "df981ab3-afe9-4284-addd-f566f73f55af",
   "metadata": {},
   "outputs": [],
   "source": []
  },
  {
   "cell_type": "code",
   "execution_count": null,
   "id": "8106c3ce-c225-48b2-b568-59b9294b6a99",
   "metadata": {},
   "outputs": [],
   "source": []
  },
  {
   "cell_type": "markdown",
   "id": "879eaff4-2b85-4261-82ee-5c01df5576ac",
   "metadata": {},
   "source": [
    "# Collect entire youtube data collection "
   ]
  },
  {
   "cell_type": "code",
   "execution_count": null,
   "id": "6d8cb5f1-a572-4ff1-abde-da414bcd27a3",
   "metadata": {},
   "outputs": [],
   "source": [
    "import os"
   ]
  },
  {
   "cell_type": "code",
   "execution_count": null,
   "id": "21e7e2e5-8f16-4246-b599-7a2dbb4b6cd3",
   "metadata": {},
   "outputs": [],
   "source": [
    "files = os.listdir(r'C:\\Users\\rocke\\Downloads\\Youtube_Data_Analysis\\Dataset\\additional_data')"
   ]
  },
  {
   "cell_type": "code",
   "execution_count": null,
   "id": "e1bfd80f-d805-4ada-ad5f-99909eacbbbd",
   "metadata": {},
   "outputs": [],
   "source": [
    "files"
   ]
  },
  {
   "cell_type": "code",
   "execution_count": null,
   "id": "f593ca29-0e2a-4560-8c74-9df7c6642f96",
   "metadata": {},
   "outputs": [],
   "source": [
    "files_csv = [file for file in files if '.csv' in file]"
   ]
  },
  {
   "cell_type": "code",
   "execution_count": null,
   "id": "2cacb40c-c0be-44d9-93d0-8ab8505b4fdf",
   "metadata": {},
   "outputs": [],
   "source": [
    "files_csv"
   ]
  },
  {
   "cell_type": "code",
   "execution_count": null,
   "id": "2ed78e61-a83a-4d8f-95d4-ea79195dc4d0",
   "metadata": {},
   "outputs": [],
   "source": []
  },
  {
   "cell_type": "code",
   "execution_count": null,
   "id": "7592b1d5-3742-44d0-b2bd-1e8df275efa6",
   "metadata": {},
   "outputs": [],
   "source": [
    "import warnings\n",
    "from warnings import filterwarnings\n",
    "filterwarnings('ignore')"
   ]
  },
  {
   "cell_type": "code",
   "execution_count": null,
   "id": "c72f0ab4-d11d-49f8-8611-bdab7699a800",
   "metadata": {},
   "outputs": [],
   "source": [
    "import pandas as pd"
   ]
  },
  {
   "cell_type": "code",
   "execution_count": null,
   "id": "6a9426d3-a1e4-43b8-8e97-5c4b4065002f",
   "metadata": {},
   "outputs": [],
   "source": [
    "full_df = pd.DataFrame()\n",
    "path = r'C:\\Users\\rocke\\Downloads\\Youtube_Data_Analysis\\Dataset\\additional_data'\n",
    "\n",
    "for file in files_csv:\n",
    "    current_df = pd.read_csv(os.path.join(path, file), encoding='iso-8859-1', on_bad_lines=\"skip\")\n",
    "    full_df = pd.concat([full_df, current_df], ignore_index=True)"
   ]
  },
  {
   "cell_type": "code",
   "execution_count": null,
   "id": "55d5b080-1f5b-4570-beb3-b09904f88505",
   "metadata": {},
   "outputs": [],
   "source": [
    "full_df.shape"
   ]
  },
  {
   "cell_type": "code",
   "execution_count": null,
   "id": "1d6d4dfe-eb66-47d0-9cd7-a8dc4eca9ee1",
   "metadata": {},
   "outputs": [],
   "source": []
  },
  {
   "cell_type": "code",
   "execution_count": null,
   "id": "ca459f6f-1b29-4f2f-9b40-1cae8cc612ab",
   "metadata": {},
   "outputs": [],
   "source": []
  },
  {
   "cell_type": "markdown",
   "id": "3d3d0872-2f38-433f-8e36-48dba27e467f",
   "metadata": {},
   "source": [
    "# Export Data in to CSV, JSON, Databases , etc "
   ]
  },
  {
   "cell_type": "code",
   "execution_count": null,
   "id": "ed727ae2-b519-4617-87eb-09415972b81b",
   "metadata": {},
   "outputs": [],
   "source": [
    "\n"
   ]
  },
  {
   "cell_type": "code",
   "execution_count": null,
   "id": "d4e7b277-9824-48e9-932a-3167181a420d",
   "metadata": {},
   "outputs": [],
   "source": [
    "full_df.duplicated()"
   ]
  },
  {
   "cell_type": "code",
   "execution_count": null,
   "id": "7281f7ac-d9f6-473e-ac84-4a32b2493873",
   "metadata": {},
   "outputs": [],
   "source": [
    "full_df = full_df.drop_duplicates()"
   ]
  },
  {
   "cell_type": "code",
   "execution_count": null,
   "id": "6fb2eb65-488c-4ac6-8204-e3d303587632",
   "metadata": {},
   "outputs": [],
   "source": [
    "full_df.shape"
   ]
  },
  {
   "cell_type": "code",
   "execution_count": null,
   "id": "41b4bacc-2026-4d9e-9303-56cb8a76fd42",
   "metadata": {},
   "outputs": [],
   "source": []
  },
  {
   "cell_type": "markdown",
   "id": "1dd34552-f547-42a1-bee8-0688a9e2f2e9",
   "metadata": {},
   "source": [
    "# Export to csv files"
   ]
  },
  {
   "cell_type": "code",
   "execution_count": null,
   "id": "0943adcc-78b8-4ead-af88-49b805df0316",
   "metadata": {},
   "outputs": [],
   "source": [
    "full_df[0:1000].to_csv(r'C:\\Users\\rocke\\Downloads\\Youtube\\export_data/youtube_sample.csv', index=False)"
   ]
  },
  {
   "cell_type": "code",
   "execution_count": null,
   "id": "d875c86e-0658-459a-ab30-7d6cea5bd380",
   "metadata": {},
   "outputs": [],
   "source": []
  },
  {
   "cell_type": "markdown",
   "id": "75ee5c47-efe3-4eaf-819b-d4214ec37e7b",
   "metadata": {},
   "source": [
    "# Export to json files"
   ]
  },
  {
   "cell_type": "code",
   "execution_count": null,
   "id": "4dfa1673-c7e5-45f1-a9de-b194f709b9db",
   "metadata": {},
   "outputs": [],
   "source": [
    "full_df[0:1000].to_json(r'C:\\Users\\rocke\\Downloads\\Youtube\\export_data/youtube_sample.json')"
   ]
  },
  {
   "cell_type": "code",
   "execution_count": null,
   "id": "e1d515af-7e60-4e60-9d32-95d0837f2b77",
   "metadata": {},
   "outputs": [],
   "source": []
  },
  {
   "cell_type": "markdown",
   "id": "15e6b9f2-fc8f-4cea-861a-9144305f185f",
   "metadata": {},
   "source": [
    "# Export to database "
   ]
  },
  {
   "cell_type": "code",
   "execution_count": null,
   "id": "ca3219da-b000-46ef-a163-7f1145695529",
   "metadata": {},
   "outputs": [],
   "source": [
    "from sqlalchemy import create_engine"
   ]
  },
  {
   "cell_type": "code",
   "execution_count": null,
   "id": "5f6757f2-6f46-443c-9c40-de0e69377de1",
   "metadata": {},
   "outputs": [],
   "source": [
    "engine = create_engine(r'sqlite:///C:\\Users\\rocke\\Downloads\\Youtube\\export_data/youtube_sample.sqlite')"
   ]
  },
  {
   "cell_type": "code",
   "execution_count": null,
   "id": "0f55a89b-e6c6-45af-8f06-efd0dfd92548",
   "metadata": {},
   "outputs": [],
   "source": [
    "full_df[0:1000].to_sql('Users', con=engine, if_exists='append',index=False)"
   ]
  },
  {
   "cell_type": "code",
   "execution_count": null,
   "id": "b31caaf3-42a2-45c4-9417-5bec8095c40b",
   "metadata": {},
   "outputs": [],
   "source": []
  },
  {
   "cell_type": "code",
   "execution_count": null,
   "id": "ad4c48a7-2380-4d17-8703-51f580a0029a",
   "metadata": {},
   "outputs": [],
   "source": []
  },
  {
   "cell_type": "markdown",
   "id": "597d1c73-b192-4b70-91f8-b9832aacd302",
   "metadata": {},
   "source": [
    "# Analysing the most liked category"
   ]
  },
  {
   "cell_type": "code",
   "execution_count": null,
   "id": "1393394d-31ba-44ba-9684-b24725fd03c6",
   "metadata": {},
   "outputs": [],
   "source": [
    "full_df.head(5)"
   ]
  },
  {
   "cell_type": "code",
   "execution_count": null,
   "id": "438dfb0e-bf8d-45b7-9195-edd0946ea507",
   "metadata": {},
   "outputs": [],
   "source": []
  },
  {
   "cell_type": "code",
   "execution_count": null,
   "id": "f3124f24-ebd4-4c28-8c8f-c23a9e63a152",
   "metadata": {},
   "outputs": [],
   "source": [
    "full_df['category_id'].unique()"
   ]
  },
  {
   "cell_type": "code",
   "execution_count": null,
   "id": "a9141515-ff27-472c-ba91-34de7f2508e3",
   "metadata": {},
   "outputs": [],
   "source": [
    "json_df = pd.read_json(r'C:\\Users\\rocke\\Downloads\\Youtube_Data_Analysis\\Dataset\\additional_data/US_category_id.json')"
   ]
  },
  {
   "cell_type": "code",
   "execution_count": null,
   "id": "8dc12993-1411-4128-b1ec-cba4fdde3ab0",
   "metadata": {},
   "outputs": [],
   "source": [
    "json_df['items'][0]"
   ]
  },
  {
   "cell_type": "code",
   "execution_count": null,
   "id": "d1f911ae-64a3-4347-b9b7-1dfc5b038ae2",
   "metadata": {},
   "outputs": [],
   "source": [
    "json_df['items'][1]"
   ]
  },
  {
   "cell_type": "code",
   "execution_count": null,
   "id": "87516143-5271-4db1-8498-bff46b7af377",
   "metadata": {},
   "outputs": [],
   "source": []
  },
  {
   "cell_type": "code",
   "execution_count": null,
   "id": "99ff413d-7289-4da2-8b72-6ec9576d7fcd",
   "metadata": {},
   "outputs": [],
   "source": [
    "cat_dict = {}\n",
    "for item in json_df['items'].values:\n",
    "    cat_dict[int(item['id'])] = item['snippet']['title']"
   ]
  },
  {
   "cell_type": "code",
   "execution_count": null,
   "id": "081a31c3-6a56-421a-bcce-e68a052e347e",
   "metadata": {},
   "outputs": [],
   "source": []
  },
  {
   "cell_type": "code",
   "execution_count": null,
   "id": "e8e2fab2-c163-45dc-95dc-c00401f8615e",
   "metadata": {},
   "outputs": [],
   "source": [
    "cat_dict"
   ]
  },
  {
   "cell_type": "code",
   "execution_count": null,
   "id": "c1c07210-000f-4e4f-87d8-de26351d7e1b",
   "metadata": {},
   "outputs": [],
   "source": []
  },
  {
   "cell_type": "code",
   "execution_count": null,
   "id": "89238e5d-7163-42df-a067-703665b9b28d",
   "metadata": {},
   "outputs": [],
   "source": [
    "full_df['category_name'] = full_df['category_id'].map(cat_dict)"
   ]
  },
  {
   "cell_type": "code",
   "execution_count": null,
   "id": "1e01f030-4923-486c-a3e3-5e496ab42465",
   "metadata": {},
   "outputs": [],
   "source": [
    "full_df.head(4)"
   ]
  },
  {
   "cell_type": "code",
   "execution_count": null,
   "id": "0a0d8037-ed78-4686-bd74-85a8eb1758eb",
   "metadata": {},
   "outputs": [],
   "source": []
  },
  {
   "cell_type": "code",
   "execution_count": null,
   "id": "c62ddb33-ba7f-45b2-bb16-fe0ef2e54b83",
   "metadata": {},
   "outputs": [],
   "source": [
    "import matplotlib.pyplot as plt\n",
    "import seaborn as sns"
   ]
  },
  {
   "cell_type": "code",
   "execution_count": null,
   "id": "eb7d1b56-8543-4dcd-9919-76f963e453bd",
   "metadata": {},
   "outputs": [],
   "source": [
    "plt.figure(figsize=(12,8))\n",
    "sns.boxplot(x='category_name', y='likes', data=full_df)\n",
    "plt.xticks(rotation='vertical')"
   ]
  },
  {
   "cell_type": "code",
   "execution_count": null,
   "id": "fa363bec-847e-4574-b4f5-748384f6acd9",
   "metadata": {},
   "outputs": [],
   "source": [
    "\n"
   ]
  },
  {
   "cell_type": "code",
   "execution_count": null,
   "id": "ecd9e6f5-328e-4d4a-ad77-5ab3063067e1",
   "metadata": {},
   "outputs": [],
   "source": []
  },
  {
   "cell_type": "markdown",
   "id": "b42481de-22d1-49bc-ad79-0792cb8f5708",
   "metadata": {},
   "source": [
    "# Analyzing Youtube Audience Engagement"
   ]
  },
  {
   "cell_type": "code",
   "execution_count": null,
   "id": "931b7e2b-d390-4b11-a7b3-897269f6105d",
   "metadata": {},
   "outputs": [],
   "source": [
    "full_df['like_rate'] = full_df['likes']/full_df['views']*100\n",
    "full_df['dislike_rate'] = full_df['dislikes']/full_df['views']*100\n",
    "full_df['comment_count_rate'] = full_df['comment_count']/full_df['views']*100"
   ]
  },
  {
   "cell_type": "code",
   "execution_count": null,
   "id": "0c44f072-610b-4753-88d6-6ca6bc807de9",
   "metadata": {},
   "outputs": [],
   "source": [
    "full_df.columns"
   ]
  },
  {
   "cell_type": "code",
   "execution_count": null,
   "id": "a9718da0-e681-436f-98e6-ba120daa0f1f",
   "metadata": {},
   "outputs": [],
   "source": []
  },
  {
   "cell_type": "code",
   "execution_count": null,
   "id": "261f9869-f44c-4883-b3f5-7e7f0f20c07a",
   "metadata": {},
   "outputs": [],
   "source": [
    "full_df.head(5)"
   ]
  },
  {
   "cell_type": "code",
   "execution_count": null,
   "id": "654763fa-6b62-4d0b-ad0d-56b5c2ee4670",
   "metadata": {},
   "outputs": [],
   "source": []
  },
  {
   "cell_type": "code",
   "execution_count": null,
   "id": "e7d41abc-a8e7-4fd5-b6e8-6b90f259a901",
   "metadata": {},
   "outputs": [],
   "source": []
  },
  {
   "cell_type": "code",
   "execution_count": null,
   "id": "b349bffb-4100-4c5a-b451-b0402edf209f",
   "metadata": {},
   "outputs": [],
   "source": [
    "plt.figure(figsize=(8,6))\n",
    "sns.boxplot(x='category_name', y='like_rate', data=full_df)\n",
    "plt.xticks(rotation='vertical')\n",
    "plt.show()"
   ]
  },
  {
   "cell_type": "code",
   "execution_count": null,
   "id": "4d157a0d-aba5-4d89-84af-f3b2f379aae5",
   "metadata": {},
   "outputs": [],
   "source": []
  },
  {
   "cell_type": "code",
   "execution_count": null,
   "id": "ee4327d1-3993-4e89-8284-2c0c1190043f",
   "metadata": {},
   "outputs": [],
   "source": [
    "sns.regplot(x='views', y='likes', data=full_df)\n",
    "plt.show()"
   ]
  },
  {
   "cell_type": "code",
   "execution_count": null,
   "id": "857020f1-3abd-4a5f-904e-dae19f5256a9",
   "metadata": {},
   "outputs": [],
   "source": []
  },
  {
   "cell_type": "code",
   "execution_count": null,
   "id": "ada170af-c536-4307-9f81-ce1eb278cae2",
   "metadata": {},
   "outputs": [],
   "source": [
    "full_df.columns"
   ]
  },
  {
   "cell_type": "code",
   "execution_count": null,
   "id": "3e4c877a-edbe-40a2-b1fb-7ba59060904c",
   "metadata": {},
   "outputs": [],
   "source": [
    "full_df[['views','likes','dislikes']]"
   ]
  },
  {
   "cell_type": "code",
   "execution_count": null,
   "id": "2d9b90dd-fb3c-447d-8e44-540d8c5b069d",
   "metadata": {},
   "outputs": [],
   "source": [
    "full_df[['views','likes','dislikes']].corr()"
   ]
  },
  {
   "cell_type": "code",
   "execution_count": null,
   "id": "97bc98d1-5c5e-4fa6-95a3-92174a8b7984",
   "metadata": {},
   "outputs": [],
   "source": []
  },
  {
   "cell_type": "code",
   "execution_count": null,
   "id": "819f2c6f-ecab-453a-8d58-8d1a9c375323",
   "metadata": {},
   "outputs": [],
   "source": [
    "sns.heatmap(full_df[['views','likes','dislikes']].corr(),annot=True)"
   ]
  },
  {
   "cell_type": "code",
   "execution_count": null,
   "id": "06d62559-2d57-42fa-8bd5-67f20c10eecf",
   "metadata": {},
   "outputs": [],
   "source": []
  },
  {
   "cell_type": "code",
   "execution_count": null,
   "id": "5fbdccf6-1e9b-499f-9ba4-9bcc5982085e",
   "metadata": {},
   "outputs": [],
   "source": []
  },
  {
   "cell_type": "markdown",
   "id": "d7d68974-17f6-494e-bde1-08e8166732ff",
   "metadata": {},
   "source": [
    "# Analyzing Trending Youtube Videos by Channel"
   ]
  },
  {
   "cell_type": "code",
   "execution_count": null,
   "id": "652840c1-75cc-42b8-84e6-71ff816afca0",
   "metadata": {},
   "outputs": [],
   "source": [
    "full_df.head(6)"
   ]
  },
  {
   "cell_type": "code",
   "execution_count": null,
   "id": "53779bab-b4a1-472e-bf13-dfd49ec78f26",
   "metadata": {},
   "outputs": [],
   "source": [
    "full_df['channel_title'].value_counts()"
   ]
  },
  {
   "cell_type": "code",
   "execution_count": null,
   "id": "691168a6-2b36-4c6c-8191-d79cdffa06c0",
   "metadata": {},
   "outputs": [],
   "source": [
    "cdf = full_df.groupby(['channel_title']).size().sort_values(ascending=False).reset_index()"
   ]
  },
  {
   "cell_type": "code",
   "execution_count": null,
   "id": "07c0d163-7503-4b37-a7ff-aa8541c941eb",
   "metadata": {},
   "outputs": [],
   "source": [
    "cdf"
   ]
  },
  {
   "cell_type": "code",
   "execution_count": null,
   "id": "8eaa4672-ec85-435f-a4a8-fe4cf01c0126",
   "metadata": {},
   "outputs": [],
   "source": [
    "#cdf.rename(columns={0:'total_videos'})"
   ]
  },
  {
   "cell_type": "code",
   "execution_count": null,
   "id": "17002ee5-e324-478d-8f8d-4613724a151a",
   "metadata": {},
   "outputs": [],
   "source": [
    "cdf.columns=['channel_title', 'total_videos']"
   ]
  },
  {
   "cell_type": "code",
   "execution_count": null,
   "id": "e5b17b8b-1207-4180-8846-c01825a9e5d1",
   "metadata": {},
   "outputs": [],
   "source": [
    "cdf "
   ]
  },
  {
   "cell_type": "code",
   "execution_count": null,
   "id": "992d5ffd-e69b-417a-9f3a-7563bfa46650",
   "metadata": {},
   "outputs": [],
   "source": [
    "import plotly.express as px "
   ]
  },
  {
   "cell_type": "code",
   "execution_count": null,
   "id": "ebbba7d3-cf8c-42c4-89ee-27bb48ac9a8c",
   "metadata": {},
   "outputs": [],
   "source": [
    "fig = px.bar(cdf[:20], x='channel_title', y='total_videos',title=\"Top 20 Channels by Number of Videos\")\n",
    "fig.show()\n"
   ]
  },
  {
   "cell_type": "code",
   "execution_count": null,
   "id": "8edbf8ed-d9a7-4be4-b724-d7bbd9263763",
   "metadata": {},
   "outputs": [],
   "source": []
  },
  {
   "cell_type": "markdown",
   "id": "c3442de3-d1a2-41fa-a54e-1f014d494857",
   "metadata": {},
   "source": [
    "# Does punctuation have an impact on views, likes and dislikes?"
   ]
  },
  {
   "cell_type": "code",
   "execution_count": null,
   "id": "1771d068-4195-4015-935f-56f38f300dfc",
   "metadata": {},
   "outputs": [],
   "source": []
  },
  {
   "cell_type": "code",
   "execution_count": null,
   "id": "d3c6a27f-71ff-4650-986b-acef2183f775",
   "metadata": {},
   "outputs": [],
   "source": [
    "full_df['title'][0]"
   ]
  },
  {
   "cell_type": "code",
   "execution_count": null,
   "id": "ac66016c-0381-4cd8-8cb8-5bc5f2369478",
   "metadata": {},
   "outputs": [],
   "source": [
    "import string"
   ]
  },
  {
   "cell_type": "code",
   "execution_count": null,
   "id": "7ca04ad7-b610-4c78-b745-282aabc75de5",
   "metadata": {},
   "outputs": [],
   "source": [
    "string.punctuation"
   ]
  },
  {
   "cell_type": "code",
   "execution_count": null,
   "id": "f29e1afc-c4ef-4746-aeb6-81c371861882",
   "metadata": {},
   "outputs": [],
   "source": [
    "len([char for char in full_df['title'][0] if char in string.punctuation])"
   ]
  },
  {
   "cell_type": "code",
   "execution_count": null,
   "id": "0712dbf6-834e-451a-a4ab-d8a3a1fdd870",
   "metadata": {},
   "outputs": [],
   "source": []
  },
  {
   "cell_type": "code",
   "execution_count": null,
   "id": "10844c8a-2b42-4cf8-baae-60f616182dbf",
   "metadata": {},
   "outputs": [],
   "source": [
    "def punc_count(text):\n",
    "    return len([char for char in text if char in string.punctuation])"
   ]
  },
  {
   "cell_type": "code",
   "execution_count": null,
   "id": "aa83dbe9-a4ab-410d-aab0-ac2babb361fc",
   "metadata": {},
   "outputs": [],
   "source": [
    "sample= full_df[0:10000]"
   ]
  },
  {
   "cell_type": "code",
   "execution_count": null,
   "id": "13b7322b-9858-4a5a-971b-0f703896c399",
   "metadata": {},
   "outputs": [],
   "source": [
    "sample['count_punc'] = sample['title'].apply(punc_count)"
   ]
  },
  {
   "cell_type": "code",
   "execution_count": null,
   "id": "1bd184b8-8aa5-424a-b2b3-cb52dacb1880",
   "metadata": {},
   "outputs": [],
   "source": [
    "sample['count_punc'] "
   ]
  },
  {
   "cell_type": "code",
   "execution_count": null,
   "id": "1f9e9d29-5f54-44d3-871f-ecdfc9a7d53b",
   "metadata": {},
   "outputs": [],
   "source": []
  },
  {
   "cell_type": "code",
   "execution_count": null,
   "id": "311f1de6-e7d5-42ab-94d9-36ce81c84404",
   "metadata": {},
   "outputs": [],
   "source": [
    "plt.figure(figsize=(8,6))\n",
    "sns.boxplot(x='count_punc', y='views', data=sample)\n",
    "plt.title(\"Relationship Between Punctuation Frequency and Views\")\n",
    "plt.show()"
   ]
  },
  {
   "cell_type": "code",
   "execution_count": null,
   "id": "0f8e279e-cf29-4555-8c97-2ffc59233b6e",
   "metadata": {},
   "outputs": [],
   "source": []
  },
  {
   "cell_type": "code",
   "execution_count": null,
   "id": "7bc7175d-5af9-4c08-b198-e2f7c6f5c9a9",
   "metadata": {},
   "outputs": [],
   "source": [
    "plt.figure(figsize=(8,6))\n",
    "sns.boxplot(x='count_punc', y='likes', data=sample)\n",
    "plt.title(\"Relationship Between Punctuation Frequency and Likes\")\n",
    "plt.show()"
   ]
  },
  {
   "cell_type": "code",
   "execution_count": null,
   "id": "1145fc8c-3511-4d65-9ae1-6f8ca92ae6ec",
   "metadata": {},
   "outputs": [],
   "source": []
  },
  {
   "cell_type": "code",
   "execution_count": null,
   "id": "6d8dc0fe-58c8-4ca0-b786-1dde0c405e91",
   "metadata": {},
   "outputs": [],
   "source": []
  },
  {
   "cell_type": "code",
   "execution_count": null,
   "id": "93341dbe-3f65-4b48-8c5a-bfe5db6ab987",
   "metadata": {},
   "outputs": [],
   "source": []
  },
  {
   "cell_type": "code",
   "execution_count": null,
   "id": "9c85008e-d376-4c68-94e9-29812d27c6f7",
   "metadata": {},
   "outputs": [],
   "source": []
  },
  {
   "cell_type": "code",
   "execution_count": null,
   "id": "cf437ebe-7bd8-437a-8586-39f043a4ede1",
   "metadata": {},
   "outputs": [],
   "source": []
  },
  {
   "cell_type": "code",
   "execution_count": null,
   "id": "1463148c-0edd-4aef-a13e-928362b82ef2",
   "metadata": {},
   "outputs": [],
   "source": []
  },
  {
   "cell_type": "code",
   "execution_count": null,
   "id": "f392cd12-7826-45e8-847c-35a7227ce949",
   "metadata": {},
   "outputs": [],
   "source": []
  },
  {
   "cell_type": "code",
   "execution_count": null,
   "id": "3d0af3de-4d19-429d-bf0c-66f445ec3cac",
   "metadata": {},
   "outputs": [],
   "source": []
  },
  {
   "cell_type": "code",
   "execution_count": null,
   "id": "e9462291-49eb-48c8-bd86-36e135a1bae6",
   "metadata": {},
   "outputs": [],
   "source": []
  },
  {
   "cell_type": "code",
   "execution_count": null,
   "id": "4edd28ad-11ae-49ff-a51f-87a64da89a1a",
   "metadata": {},
   "outputs": [],
   "source": []
  },
  {
   "cell_type": "code",
   "execution_count": null,
   "id": "f060bcc2-1043-4177-8fe7-a0c3b27bde65",
   "metadata": {},
   "outputs": [],
   "source": []
  },
  {
   "cell_type": "code",
   "execution_count": null,
   "id": "fe6f15f3-d070-467a-b186-fbc4c6a4c600",
   "metadata": {},
   "outputs": [],
   "source": []
  },
  {
   "cell_type": "code",
   "execution_count": null,
   "id": "95ce18f8-f193-4c84-b1bc-3025afff6ea6",
   "metadata": {},
   "outputs": [],
   "source": []
  },
  {
   "cell_type": "code",
   "execution_count": null,
   "id": "26dbb69c-bf58-4721-9d1a-51ab80266abe",
   "metadata": {},
   "outputs": [],
   "source": []
  },
  {
   "cell_type": "code",
   "execution_count": null,
   "id": "3056f65d-a5d9-49dc-b1a6-f00c458d61e9",
   "metadata": {},
   "outputs": [],
   "source": []
  },
  {
   "cell_type": "code",
   "execution_count": null,
   "id": "552b8bbe-3be0-4e40-b645-ab9d6ec422da",
   "metadata": {},
   "outputs": [],
   "source": []
  },
  {
   "cell_type": "code",
   "execution_count": null,
   "id": "c1adac86-49e4-4c1d-a41b-eb419058ef12",
   "metadata": {},
   "outputs": [],
   "source": []
  },
  {
   "cell_type": "code",
   "execution_count": null,
   "id": "bf0cc2e7-0327-4e1a-9d35-220f57969bc0",
   "metadata": {},
   "outputs": [],
   "source": []
  },
  {
   "cell_type": "code",
   "execution_count": null,
   "id": "177fa4aa-3d00-423e-8d11-fe4bb223decc",
   "metadata": {},
   "outputs": [],
   "source": []
  },
  {
   "cell_type": "code",
   "execution_count": null,
   "id": "1d03157b-bda6-46a1-a5b9-d99e8f2bae11",
   "metadata": {},
   "outputs": [],
   "source": []
  },
  {
   "cell_type": "code",
   "execution_count": null,
   "id": "b50bde84-6c83-4938-9099-2cd4dbecdf03",
   "metadata": {},
   "outputs": [],
   "source": []
  },
  {
   "cell_type": "code",
   "execution_count": null,
   "id": "27b9d91f-cbb6-4621-baa5-ecd64b4a6c75",
   "metadata": {},
   "outputs": [],
   "source": []
  },
  {
   "cell_type": "code",
   "execution_count": null,
   "id": "ab3ce661-363c-4581-95e6-ce83ef55c77a",
   "metadata": {},
   "outputs": [],
   "source": []
  },
  {
   "cell_type": "code",
   "execution_count": null,
   "id": "e28900d3-0474-4c25-8aba-7c276d70c79a",
   "metadata": {},
   "outputs": [],
   "source": []
  },
  {
   "cell_type": "code",
   "execution_count": null,
   "id": "826a8d9c-9bb9-4b20-a8b5-ac78f065cabd",
   "metadata": {},
   "outputs": [],
   "source": []
  },
  {
   "cell_type": "code",
   "execution_count": null,
   "id": "e4dc5b97-495d-4c1e-b161-105c067a30e1",
   "metadata": {},
   "outputs": [],
   "source": []
  },
  {
   "cell_type": "code",
   "execution_count": null,
   "id": "95671587-9bfe-4b7e-b40b-cf4058a9c32f",
   "metadata": {},
   "outputs": [],
   "source": []
  },
  {
   "cell_type": "code",
   "execution_count": null,
   "id": "6a28068b-53c6-44f9-b8de-a1929d401103",
   "metadata": {},
   "outputs": [],
   "source": []
  }
 ],
 "metadata": {
  "kernelspec": {
   "display_name": "Python 3 (ipykernel)",
   "language": "python",
   "name": "python3"
  },
  "language_info": {
   "codemirror_mode": {
    "name": "ipython",
    "version": 3
   },
   "file_extension": ".py",
   "mimetype": "text/x-python",
   "name": "python",
   "nbconvert_exporter": "python",
   "pygments_lexer": "ipython3",
   "version": "3.13.5"
  }
 },
 "nbformat": 4,
 "nbformat_minor": 5
}
